{
 "cells": [
  {
   "cell_type": "markdown",
   "source": [
    "# Homework 1 - Professionalism & Reproducibility\n",
    "### DATA 512 - Human-Centered Data Science\n",
    "#### Aamir Darukhanawalla"
   ],
   "metadata": {
    "collapsed": false
   }
  },
  {
   "cell_type": "markdown",
   "source": [
    "#### Import the required libraries"
   ],
   "metadata": {
    "collapsed": false
   }
  },
  {
   "cell_type": "code",
   "execution_count": 541,
   "outputs": [],
   "source": [
    "import numpy as np\n",
    "import pandas as pd\n",
    "\n",
    "import json\n",
    "import requests\n",
    "import time\n",
    "\n",
    "from math import ceil"
   ],
   "metadata": {
    "collapsed": false
   }
  },
  {
   "cell_type": "markdown",
   "source": [
    "### Step 1: Getting the Article and Population Data"
   ],
   "metadata": {
    "collapsed": false
   }
  },
  {
   "cell_type": "code",
   "execution_count": 542,
   "outputs": [],
   "source": [
    "POLITICIANS_FILE = 'Data/politicians_by_country_SEPT.2022.csv.xlsx'\n",
    "POPULATION_FILE = 'Data/population_by_country_2022.csv.xlsx'\n",
    "politicians_list = pd.read_excel(POLITICIANS_FILE)\n",
    "population_list = pd.read_excel(POPULATION_FILE)"
   ],
   "metadata": {
    "collapsed": false
   }
  },
  {
   "cell_type": "markdown",
   "source": [
    "#### Analyze data for politicians by country"
   ],
   "metadata": {
    "collapsed": false
   }
  },
  {
   "cell_type": "code",
   "execution_count": 543,
   "outputs": [
    {
     "data": {
      "text/plain": "name                               url                                                              country    \nIbrahim Megag Samatar              https://en.wikipedia.org/wiki/Ibrahim_Megag_Samatar              Somalia        2\nAbdirahman Aw Ali Farrah           https://en.wikipedia.org/wiki/Abdirahman_Aw_Ali_Farrah           Somalia        2\n8th National Assembly of Slovenia  https://en.wikipedia.org/wiki/8th_National_Assembly_of_Slovenia  Slovenia       1\nMohammad Hashem Taufiqui           https://en.wikipedia.org/wiki/Mohammad_Hashem_Taufiqui           Afghanistan    1\nMohammad Reza Kalaei               https://en.wikipedia.org/wiki/Mohammad_Reza_Kalaei               Iran           1\ndtype: int64"
     },
     "execution_count": 543,
     "metadata": {},
     "output_type": "execute_result"
    }
   ],
   "source": [
    "# Check for duplicate entries in the data\n",
    "politicians_list.value_counts().head()"
   ],
   "metadata": {
    "collapsed": false
   }
  },
  {
   "cell_type": "code",
   "execution_count": 544,
   "outputs": [
    {
     "data": {
      "text/plain": "Torokul Dzhanuzakov    4\nEduard Hedvicek        2\nJožef Krajnc           2\nSergey Abisov          2\nVladimir Pavićević     2\nName: name, dtype: int64"
     },
     "execution_count": 544,
     "metadata": {},
     "output_type": "execute_result"
    }
   ],
   "source": [
    "# Check for duplicate article names\n",
    "politicians_list['name'].value_counts().head()"
   ],
   "metadata": {
    "collapsed": false
   }
  },
  {
   "cell_type": "code",
   "execution_count": 545,
   "outputs": [
    {
     "data": {
      "text/plain": "                     name                                                url  \\\n3626  Torokul Dzhanuzakov  https://en.wikipedia.org/wiki/Torokul_Dzhanuzakov   \n3983  Torokul Dzhanuzakov  https://en.wikipedia.org/wiki/Torokul_Dzhanuzakov   \n6894  Torokul Dzhanuzakov  https://en.wikipedia.org/wiki/Torokul_Dzhanuzakov   \n7341  Torokul Dzhanuzakov  https://en.wikipedia.org/wiki/Torokul_Dzhanuzakov   \n\n         country  \n3626  Kazakhstan  \n3983  Kyrgyzstan  \n6894  Tajikistan  \n7341  Uzbekistan  ",
      "text/html": "<div>\n<style scoped>\n    .dataframe tbody tr th:only-of-type {\n        vertical-align: middle;\n    }\n\n    .dataframe tbody tr th {\n        vertical-align: top;\n    }\n\n    .dataframe thead th {\n        text-align: right;\n    }\n</style>\n<table border=\"1\" class=\"dataframe\">\n  <thead>\n    <tr style=\"text-align: right;\">\n      <th></th>\n      <th>name</th>\n      <th>url</th>\n      <th>country</th>\n    </tr>\n  </thead>\n  <tbody>\n    <tr>\n      <th>3626</th>\n      <td>Torokul Dzhanuzakov</td>\n      <td>https://en.wikipedia.org/wiki/Torokul_Dzhanuzakov</td>\n      <td>Kazakhstan</td>\n    </tr>\n    <tr>\n      <th>3983</th>\n      <td>Torokul Dzhanuzakov</td>\n      <td>https://en.wikipedia.org/wiki/Torokul_Dzhanuzakov</td>\n      <td>Kyrgyzstan</td>\n    </tr>\n    <tr>\n      <th>6894</th>\n      <td>Torokul Dzhanuzakov</td>\n      <td>https://en.wikipedia.org/wiki/Torokul_Dzhanuzakov</td>\n      <td>Tajikistan</td>\n    </tr>\n    <tr>\n      <th>7341</th>\n      <td>Torokul Dzhanuzakov</td>\n      <td>https://en.wikipedia.org/wiki/Torokul_Dzhanuzakov</td>\n      <td>Uzbekistan</td>\n    </tr>\n  </tbody>\n</table>\n</div>"
     },
     "execution_count": 545,
     "metadata": {},
     "output_type": "execute_result"
    }
   ],
   "source": [
    "# Check an example having duplicate article names\n",
    "politicians_list[politicians_list['name'] == 'Torokul Dzhanuzakov']"
   ],
   "metadata": {
    "collapsed": false
   }
  },
  {
   "cell_type": "markdown",
   "source": [
    "Politician Dataset Considerations:\n",
    "- The politicians dataset consists of 48 politicians having duplicate names.\n",
    "- However, these duplicate politicians happen to be associated with different countries. Hence, we choose to keep these records.\n",
    "- There are 2 records that have duplicate values for all fields. We drop the duplicate values.\n"
   ],
   "metadata": {
    "collapsed": false
   }
  },
  {
   "cell_type": "code",
   "execution_count": 546,
   "outputs": [],
   "source": [
    "# Drop records having duplicate entries in all columns\n",
    "politicians_list.drop_duplicates(inplace = True)"
   ],
   "metadata": {
    "collapsed": false
   }
  },
  {
   "cell_type": "markdown",
   "source": [
    "#### Analyze data for population by country"
   ],
   "metadata": {
    "collapsed": false
   }
  },
  {
   "cell_type": "code",
   "execution_count": 547,
   "outputs": [
    {
     "data": {
      "text/plain": "               Geography  Population (millions)\n183        Liechtenstein                    0.0\n231               Tuvalu                    0.0\n185               Monaco                    0.0\n211           San Marino                    0.0\n226                Palau                    0.0\n223                Nauru                    0.0\n91       St. Kitts-Nevis                    0.1\n83              Dominica                    0.1\n221             Kiribati                    0.1\n78   Antigua and Barbuda                    0.1",
      "text/html": "<div>\n<style scoped>\n    .dataframe tbody tr th:only-of-type {\n        vertical-align: middle;\n    }\n\n    .dataframe tbody tr th {\n        vertical-align: top;\n    }\n\n    .dataframe thead th {\n        text-align: right;\n    }\n</style>\n<table border=\"1\" class=\"dataframe\">\n  <thead>\n    <tr style=\"text-align: right;\">\n      <th></th>\n      <th>Geography</th>\n      <th>Population (millions)</th>\n    </tr>\n  </thead>\n  <tbody>\n    <tr>\n      <th>183</th>\n      <td>Liechtenstein</td>\n      <td>0.0</td>\n    </tr>\n    <tr>\n      <th>231</th>\n      <td>Tuvalu</td>\n      <td>0.0</td>\n    </tr>\n    <tr>\n      <th>185</th>\n      <td>Monaco</td>\n      <td>0.0</td>\n    </tr>\n    <tr>\n      <th>211</th>\n      <td>San Marino</td>\n      <td>0.0</td>\n    </tr>\n    <tr>\n      <th>226</th>\n      <td>Palau</td>\n      <td>0.0</td>\n    </tr>\n    <tr>\n      <th>223</th>\n      <td>Nauru</td>\n      <td>0.0</td>\n    </tr>\n    <tr>\n      <th>91</th>\n      <td>St. Kitts-Nevis</td>\n      <td>0.1</td>\n    </tr>\n    <tr>\n      <th>83</th>\n      <td>Dominica</td>\n      <td>0.1</td>\n    </tr>\n    <tr>\n      <th>221</th>\n      <td>Kiribati</td>\n      <td>0.1</td>\n    </tr>\n    <tr>\n      <th>78</th>\n      <td>Antigua and Barbuda</td>\n      <td>0.1</td>\n    </tr>\n  </tbody>\n</table>\n</div>"
     },
     "execution_count": 547,
     "metadata": {},
     "output_type": "execute_result"
    }
   ],
   "source": [
    "population_list.loc[population_list['Population (millions)'].sort_values().index].head(10)"
   ],
   "metadata": {
    "collapsed": false
   }
  },
  {
   "cell_type": "markdown",
   "source": [
    "Population Dataset Considerations:\n",
    "- Since the population has been stored in millions rounded to 1 decimal place, a few countries happen to have a population of 0.0 million. These countries will raise errors while calculating metrics per capita. We do not make any changes for now, but we shall need to handle these cases while performing per capita analysis.\n",
    "- We need to identify countries and regions by checking if the Geography is all caps. We then assign each country to a region (its closest parent)."
   ],
   "metadata": {
    "collapsed": false
   }
  },
  {
   "cell_type": "markdown",
   "source": [
    "#### Populate region for the respective country\n",
    "We identify regions from countries based on whether they have all capital letters.\n",
    "We then populate the region column for regions and add Null values for countries.\n",
    "Using forward fill, we populate the regions of their respective countries."
   ],
   "metadata": {
    "collapsed": false
   }
  },
  {
   "cell_type": "code",
   "execution_count": 548,
   "outputs": [],
   "source": [
    "population_list['Region'] = population_list['Geography'].map(lambda name: name if name.isupper() else None)"
   ],
   "metadata": {
    "collapsed": false
   }
  },
  {
   "cell_type": "code",
   "execution_count": 549,
   "outputs": [],
   "source": [
    "population_list['Region'] = population_list['Region'].ffill()"
   ],
   "metadata": {
    "collapsed": false
   }
  },
  {
   "cell_type": "code",
   "execution_count": 550,
   "outputs": [
    {
     "data": {
      "text/plain": "         Geography  Population (millions)           Region\n0            WORLD                 7963.0            WORLD\n1           AFRICA                 1419.0           AFRICA\n2  NORTHERN AFRICA                  251.0  NORTHERN AFRICA\n3          Algeria                   44.9  NORTHERN AFRICA\n4            Egypt                  103.5  NORTHERN AFRICA",
      "text/html": "<div>\n<style scoped>\n    .dataframe tbody tr th:only-of-type {\n        vertical-align: middle;\n    }\n\n    .dataframe tbody tr th {\n        vertical-align: top;\n    }\n\n    .dataframe thead th {\n        text-align: right;\n    }\n</style>\n<table border=\"1\" class=\"dataframe\">\n  <thead>\n    <tr style=\"text-align: right;\">\n      <th></th>\n      <th>Geography</th>\n      <th>Population (millions)</th>\n      <th>Region</th>\n    </tr>\n  </thead>\n  <tbody>\n    <tr>\n      <th>0</th>\n      <td>WORLD</td>\n      <td>7963.0</td>\n      <td>WORLD</td>\n    </tr>\n    <tr>\n      <th>1</th>\n      <td>AFRICA</td>\n      <td>1419.0</td>\n      <td>AFRICA</td>\n    </tr>\n    <tr>\n      <th>2</th>\n      <td>NORTHERN AFRICA</td>\n      <td>251.0</td>\n      <td>NORTHERN AFRICA</td>\n    </tr>\n    <tr>\n      <th>3</th>\n      <td>Algeria</td>\n      <td>44.9</td>\n      <td>NORTHERN AFRICA</td>\n    </tr>\n    <tr>\n      <th>4</th>\n      <td>Egypt</td>\n      <td>103.5</td>\n      <td>NORTHERN AFRICA</td>\n    </tr>\n  </tbody>\n</table>\n</div>"
     },
     "execution_count": 550,
     "metadata": {},
     "output_type": "execute_result"
    }
   ],
   "source": [
    "population_list.head()"
   ],
   "metadata": {
    "collapsed": false
   }
  },
  {
   "cell_type": "markdown",
   "source": [
    "### Step 2: Getting Article Quality Predictions\n",
    "\n",
    "#### API Call to the MediaWiki API to retrieve the last revision ID from the Wikipedia article title"
   ],
   "metadata": {
    "collapsed": false
   }
  },
  {
   "cell_type": "code",
   "execution_count": 551,
   "outputs": [],
   "source": [
    "# The basic English Wikipedia API endpoint\n",
    "API_ENWIKIPEDIA_ENDPOINT = \"https://en.wikipedia.org/w/api.php\"\n",
    "\n",
    "# We'll assume that there needs to be some throttling for these requests - we should always be nice to a free data resource\n",
    "API_LATENCY_ASSUMED = 0.002       # Assuming roughly 2ms latency on the API and network\n",
    "API_THROTTLE_WAIT = (1.0 / 100.0) - API_LATENCY_ASSUMED\n",
    "\n",
    "# When making automated requests we should include something that is unique to the person making the request\n",
    "# This should include an email - your UW email would be good to put in there\n",
    "REQUEST_HEADERS = {\n",
    "    'User-Agent': 'aamird@uw.edu, University of Washington, MSDS DATA 512 - AUTUMN 2022',\n",
    "}\n",
    "\n",
    "# This is just a list of English Wikipedia article titles that we can use for example requests\n",
    "ARTICLE_TITLES = politicians_list['name'].unique()\n",
    "\n",
    "# This is a string of additional page properties that can be returned see the Info documentation for\n",
    "# what can be included. If you don't want any this can simply be the empty string\n",
    "PAGEINFO_EXTENDED_PROPERTIES = \"talkid|url|watched|watchers\"\n",
    "#PAGEINFO_EXTENDED_PROPERTIES = \"\"\n",
    "\n",
    "# This template lists the basic parameters for making this\n",
    "PAGEINFO_PARAMS_TEMPLATE = {\n",
    "    \"action\": \"query\",\n",
    "    \"format\": \"json\",\n",
    "    \"titles\": '|'.join(politicians_list['name'].head(50)),\n",
    "    \"prop\": \"info\",\n",
    "    \"inprop\": PAGEINFO_EXTENDED_PROPERTIES\n",
    "}"
   ],
   "metadata": {
    "collapsed": false
   }
  },
  {
   "cell_type": "code",
   "execution_count": 552,
   "outputs": [],
   "source": [
    "def request_pageinfo_per_article(article_titles = None,\n",
    "                                 endpoint_url = API_ENWIKIPEDIA_ENDPOINT,\n",
    "                                 request_template = PAGEINFO_PARAMS_TEMPLATE,\n",
    "                                 headers = REQUEST_HEADERS):\n",
    "    # Make sure we have an article title\n",
    "    if not article_titles: return None\n",
    "\n",
    "    request_template['titles'] = article_titles\n",
    "\n",
    "    # make the request\n",
    "    try:\n",
    "        # we'll wait first, to make sure we don't exceed the limit in the situation where an exception\n",
    "        # occurs during the request processing - throttling is always a good practice with a free\n",
    "        # data source like Wikipedia - or any other community sources\n",
    "        if API_THROTTLE_WAIT > 0.0:\n",
    "            time.sleep(API_THROTTLE_WAIT)\n",
    "        response = requests.get(endpoint_url, headers=headers, params=request_template)\n",
    "        json_response = response.json()\n",
    "    except Exception as e:\n",
    "        print(e)\n",
    "        json_response = None\n",
    "    return json_response\n"
   ],
   "metadata": {
    "collapsed": false
   }
  },
  {
   "cell_type": "markdown",
   "source": [
    "We group the list of article titles into chunks of 50 articles. We then request the data for 50 articles in each API call.\n",
    "\n",
    "JSON responses that have a negative key indicate articles that were not found.\n",
    "We do not add these articles to our DataFrame and store them in a separate list."
   ],
   "metadata": {
    "collapsed": false
   }
  },
  {
   "cell_type": "code",
   "execution_count": 553,
   "outputs": [],
   "source": [
    "info = {}\n",
    "unknown_articles = []\n",
    "for chunk in np.array_split(ARTICLE_TITLES, ceil(len(ARTICLE_TITLES) / 50)):\n",
    "    pages = request_pageinfo_per_article('|'.join(chunk))['query']['pages']\n",
    "    for page_ix in list(pages.keys()):\n",
    "        if int(page_ix) < 0:\n",
    "            unknown_articles.append(pages[page_ix]['title'])\n",
    "            del pages[page_ix]\n",
    "        else:\n",
    "            break\n",
    "    info.update(pages)\n",
    "df_politicians = pd.DataFrame.from_dict(info, orient='index', columns=['title','lastrevid'])"
   ],
   "metadata": {
    "collapsed": false
   }
  },
  {
   "cell_type": "code",
   "execution_count": 554,
   "outputs": [
    {
     "name": "stdout",
     "output_type": "stream",
     "text": [
      "The articles for the following politicians do not return a valid response from the Wikipedia API:\n"
     ]
    },
    {
     "data": {
      "text/plain": "['Prince Ofosu Sefah',\n 'Harjit Kaur Talwandi',\n 'Abd al-Razzaq al-Hasani',\n 'Kang Sun-nam',\n 'Abiodun Abimbola Orekoya',\n 'Roman Konoplev']"
     },
     "execution_count": 554,
     "metadata": {},
     "output_type": "execute_result"
    }
   ],
   "source": [
    "print('The articles for the following politicians do not return a valid response from the Wikipedia API:')\n",
    "unknown_articles"
   ],
   "metadata": {
    "collapsed": false
   }
  },
  {
   "cell_type": "markdown",
   "source": [
    "#### API Call to the ORES API to get the predicted article quality from its last revision ID"
   ],
   "metadata": {
    "collapsed": false
   }
  },
  {
   "cell_type": "code",
   "execution_count": 555,
   "outputs": [],
   "source": [
    "# The current ORES API endpoint\n",
    "API_ORES_SCORE_ENDPOINT = \"https://ores.wikimedia.org/v3\"\n",
    "# A template for mapping to the URL\n",
    "API_ORES_SCORE_PARAMS = \"/scores/{context}/?models={model}&revids={revids}\"\n",
    "\n",
    "# Use some delays so that we do not hammer the API with our requests\n",
    "API_LATENCY_ASSUMED = 0.002       # Assuming roughly 2ms latency on the API and network\n",
    "API_THROTTLE_WAIT = (1.0 / 100.0) - API_LATENCY_ASSUMED\n",
    "\n",
    "# When making automated requests we should include something that is unique to the person making the request\n",
    "# This should include an email - your UW email would be good to put in there\n",
    "REQUEST_HEADERS = {\n",
    "    'User-Agent': 'aamird@uw.edu, University of Washington, MSDS DATA 512 - AUTUMN 2022'\n",
    "}\n",
    "\n",
    "# A dictionary of English Wikipedia article titles (keys) and sample revision IDs that can be used for this ORES scoring example\n",
    "ARTICLE_REVISIONS = df_politicians['lastrevid'].apply(str)\n",
    "\n",
    "# This template lists the basic parameters for making an ORES request\n",
    "ORES_PARAMS_TEMPLATE = {\n",
    "    \"context\": \"enwiki\",        # which WMF project for the specified revid\n",
    "    \"revids\" : \"\",              # the revision to be scored - this will probably change each call\n",
    "    \"model\": \"articlequality\"   # the AI/ML scoring model to apply to the reviewion\n",
    "}"
   ],
   "metadata": {
    "collapsed": false
   }
  },
  {
   "cell_type": "code",
   "execution_count": 556,
   "outputs": [],
   "source": [
    "def request_ores_score_per_article(article_revids = None,\n",
    "                                   endpoint_url = API_ORES_SCORE_ENDPOINT,\n",
    "                                   endpoint_params = API_ORES_SCORE_PARAMS,\n",
    "                                   request_template = ORES_PARAMS_TEMPLATE,\n",
    "                                   headers = REQUEST_HEADERS,\n",
    "                                   features=False):\n",
    "    # Make sure we have an article revision id\n",
    "    if not article_revids: return None\n",
    "\n",
    "    # set the revision id into the template\n",
    "    request_template['revids'] = article_revids\n",
    "\n",
    "    # now, create a request URL by combining the endpoint_url with the parameters for the request\n",
    "    request_url = endpoint_url+endpoint_params.format(**request_template)\n",
    "\n",
    "    # the features used by the ML model can sometimes be returned as well as scores\n",
    "    if features:\n",
    "        request_url = request_url+\"?features=true\"\n",
    "\n",
    "    # make the request\n",
    "    try:\n",
    "        # we'll wait first, to make sure we don't exceed the limit in the situation where an exception\n",
    "        # occurs during the request processing - throttling is always a good practice with a free\n",
    "        # data source like ORES - or other community sources\n",
    "        if API_THROTTLE_WAIT > 0.0:\n",
    "            time.sleep(API_THROTTLE_WAIT)\n",
    "        response = requests.get(request_url, headers=headers)\n",
    "        json_response = response.json()\n",
    "    except Exception as e:\n",
    "        print(e)\n",
    "        json_response = None\n",
    "    return json_response"
   ],
   "metadata": {
    "collapsed": false
   }
  },
  {
   "cell_type": "markdown",
   "source": [
    "We again request the data for 50 articles in each API call by dividing the revision IDs list into chunks of 50."
   ],
   "metadata": {
    "collapsed": false
   }
  },
  {
   "cell_type": "code",
   "execution_count": 557,
   "outputs": [],
   "source": [
    "scores_dict = {}\n",
    "for chunk in np.array_split(ARTICLE_REVISIONS, ceil(len(ARTICLE_REVISIONS) / 50)):\n",
    "    scores = request_ores_score_per_article('|'.join(chunk))['enwiki']['scores']\n",
    "    for rev_id in scores:\n",
    "        scores_dict[rev_id] = scores[rev_id]['articlequality']['score']['prediction']"
   ],
   "metadata": {
    "collapsed": false
   }
  },
  {
   "cell_type": "markdown",
   "source": [
    "We add the article quality to the politicians DataFrame"
   ],
   "metadata": {
    "collapsed": false
   }
  },
  {
   "cell_type": "code",
   "execution_count": 558,
   "outputs": [],
   "source": [
    "df_politicians['Article Quality'] = df_politicians['lastrevid'].map(str).map(scores_dict)"
   ],
   "metadata": {
    "collapsed": false
   }
  },
  {
   "cell_type": "code",
   "execution_count": 559,
   "outputs": [
    {
     "data": {
      "text/plain": "                          title   lastrevid Article Quality\n65412901             Abas Basir  1098419766               C\n27428272  Abdul Baqi Turkistani   889226470            Stub\n42972519  Abdul Ghafar Lakanwal   943562276           Start\n29443640      Abdul Ghani Ghani  1072441893            Stub\n44098744     Abdul Malik Hamwar  1100874645            Stub",
      "text/html": "<div>\n<style scoped>\n    .dataframe tbody tr th:only-of-type {\n        vertical-align: middle;\n    }\n\n    .dataframe tbody tr th {\n        vertical-align: top;\n    }\n\n    .dataframe thead th {\n        text-align: right;\n    }\n</style>\n<table border=\"1\" class=\"dataframe\">\n  <thead>\n    <tr style=\"text-align: right;\">\n      <th></th>\n      <th>title</th>\n      <th>lastrevid</th>\n      <th>Article Quality</th>\n    </tr>\n  </thead>\n  <tbody>\n    <tr>\n      <th>65412901</th>\n      <td>Abas Basir</td>\n      <td>1098419766</td>\n      <td>C</td>\n    </tr>\n    <tr>\n      <th>27428272</th>\n      <td>Abdul Baqi Turkistani</td>\n      <td>889226470</td>\n      <td>Stub</td>\n    </tr>\n    <tr>\n      <th>42972519</th>\n      <td>Abdul Ghafar Lakanwal</td>\n      <td>943562276</td>\n      <td>Start</td>\n    </tr>\n    <tr>\n      <th>29443640</th>\n      <td>Abdul Ghani Ghani</td>\n      <td>1072441893</td>\n      <td>Stub</td>\n    </tr>\n    <tr>\n      <th>44098744</th>\n      <td>Abdul Malik Hamwar</td>\n      <td>1100874645</td>\n      <td>Stub</td>\n    </tr>\n  </tbody>\n</table>\n</div>"
     },
     "execution_count": 559,
     "metadata": {},
     "output_type": "execute_result"
    }
   ],
   "source": [
    "df_politicians.head()"
   ],
   "metadata": {
    "collapsed": false
   }
  },
  {
   "cell_type": "markdown",
   "source": [
    "### Step 3: Combining the Datasets\n",
    "Create a single DataFrame containing politician article data, the article quality, and their respective country's population data"
   ],
   "metadata": {
    "collapsed": false
   }
  },
  {
   "cell_type": "code",
   "execution_count": 561,
   "outputs": [],
   "source": [
    "df = df_politicians.merge(\n",
    "    politicians_list,\n",
    "    left_on='title',\n",
    "    right_on='name',\n",
    "    how='left'\n",
    ").merge(\n",
    "    population_list[~population_list['Geography'].str.isupper()],\n",
    "    left_on='country',\n",
    "    right_on='Geography',\n",
    "    how='outer'\n",
    ")"
   ],
   "metadata": {
    "collapsed": false
   }
  },
  {
   "cell_type": "code",
   "execution_count": 562,
   "outputs": [
    {
     "data": {
      "text/plain": "                   title     lastrevid Article Quality                   name  \\\n0             Abas Basir  1.098420e+09               C             Abas Basir   \n1  Abdul Baqi Turkistani  8.892265e+08            Stub  Abdul Baqi Turkistani   \n2  Abdul Ghafar Lakanwal  9.435623e+08           Start  Abdul Ghafar Lakanwal   \n3      Abdul Ghani Ghani  1.072442e+09            Stub      Abdul Ghani Ghani   \n4     Abdul Malik Hamwar  1.100875e+09            Stub     Abdul Malik Hamwar   \n\n                                                 url      country  \\\n0           https://en.wikipedia.org/wiki/Abas_Basir  Afghanistan   \n1  https://en.wikipedia.org/wiki/Abdul_Baqi_Turki...  Afghanistan   \n2  https://en.wikipedia.org/wiki/Abdul_Ghafar_Lak...  Afghanistan   \n3    https://en.wikipedia.org/wiki/Abdul_Ghani_Ghani  Afghanistan   \n4   https://en.wikipedia.org/wiki/Abdul_Malik_Hamwar  Afghanistan   \n\n     Geography  Population (millions)      Region  \n0  Afghanistan                   41.1  SOUTH ASIA  \n1  Afghanistan                   41.1  SOUTH ASIA  \n2  Afghanistan                   41.1  SOUTH ASIA  \n3  Afghanistan                   41.1  SOUTH ASIA  \n4  Afghanistan                   41.1  SOUTH ASIA  ",
      "text/html": "<div>\n<style scoped>\n    .dataframe tbody tr th:only-of-type {\n        vertical-align: middle;\n    }\n\n    .dataframe tbody tr th {\n        vertical-align: top;\n    }\n\n    .dataframe thead th {\n        text-align: right;\n    }\n</style>\n<table border=\"1\" class=\"dataframe\">\n  <thead>\n    <tr style=\"text-align: right;\">\n      <th></th>\n      <th>title</th>\n      <th>lastrevid</th>\n      <th>Article Quality</th>\n      <th>name</th>\n      <th>url</th>\n      <th>country</th>\n      <th>Geography</th>\n      <th>Population (millions)</th>\n      <th>Region</th>\n    </tr>\n  </thead>\n  <tbody>\n    <tr>\n      <th>0</th>\n      <td>Abas Basir</td>\n      <td>1.098420e+09</td>\n      <td>C</td>\n      <td>Abas Basir</td>\n      <td>https://en.wikipedia.org/wiki/Abas_Basir</td>\n      <td>Afghanistan</td>\n      <td>Afghanistan</td>\n      <td>41.1</td>\n      <td>SOUTH ASIA</td>\n    </tr>\n    <tr>\n      <th>1</th>\n      <td>Abdul Baqi Turkistani</td>\n      <td>8.892265e+08</td>\n      <td>Stub</td>\n      <td>Abdul Baqi Turkistani</td>\n      <td>https://en.wikipedia.org/wiki/Abdul_Baqi_Turki...</td>\n      <td>Afghanistan</td>\n      <td>Afghanistan</td>\n      <td>41.1</td>\n      <td>SOUTH ASIA</td>\n    </tr>\n    <tr>\n      <th>2</th>\n      <td>Abdul Ghafar Lakanwal</td>\n      <td>9.435623e+08</td>\n      <td>Start</td>\n      <td>Abdul Ghafar Lakanwal</td>\n      <td>https://en.wikipedia.org/wiki/Abdul_Ghafar_Lak...</td>\n      <td>Afghanistan</td>\n      <td>Afghanistan</td>\n      <td>41.1</td>\n      <td>SOUTH ASIA</td>\n    </tr>\n    <tr>\n      <th>3</th>\n      <td>Abdul Ghani Ghani</td>\n      <td>1.072442e+09</td>\n      <td>Stub</td>\n      <td>Abdul Ghani Ghani</td>\n      <td>https://en.wikipedia.org/wiki/Abdul_Ghani_Ghani</td>\n      <td>Afghanistan</td>\n      <td>Afghanistan</td>\n      <td>41.1</td>\n      <td>SOUTH ASIA</td>\n    </tr>\n    <tr>\n      <th>4</th>\n      <td>Abdul Malik Hamwar</td>\n      <td>1.100875e+09</td>\n      <td>Stub</td>\n      <td>Abdul Malik Hamwar</td>\n      <td>https://en.wikipedia.org/wiki/Abdul_Malik_Hamwar</td>\n      <td>Afghanistan</td>\n      <td>Afghanistan</td>\n      <td>41.1</td>\n      <td>SOUTH ASIA</td>\n    </tr>\n  </tbody>\n</table>\n</div>"
     },
     "execution_count": 562,
     "metadata": {},
     "output_type": "execute_result"
    }
   ],
   "source": [
    "df.head()"
   ],
   "metadata": {
    "collapsed": false
   }
  },
  {
   "cell_type": "markdown",
   "source": [
    "#### Identifying countries having cannot find a match to join on between the politicians and population data"
   ],
   "metadata": {
    "collapsed": false
   }
  },
  {
   "cell_type": "code",
   "execution_count": 563,
   "outputs": [
    {
     "data": {
      "text/plain": "{'Australia',\n 'Brunei',\n 'Canada',\n 'China,  Hong Kong SAR',\n 'China,  Macao SAR',\n 'Curacao',\n 'French Guiana',\n 'French Polynesia',\n 'Guadeloupe',\n 'Guam',\n 'Ireland',\n 'Kiribati',\n 'Korean',\n 'Martinique',\n 'Mauritius',\n 'Mayotte',\n 'New Caledonia',\n 'New Zealand',\n 'Philippines',\n 'Puerto Rico',\n 'Reunion',\n 'Sao Tome and Principe',\n 'United Kingdom',\n 'United States',\n 'Western Sahara',\n 'eSwatini'}"
     },
     "execution_count": 563,
     "metadata": {},
     "output_type": "execute_result"
    }
   ],
   "source": [
    "# Countries having no match\n",
    "set(df['Geography']) ^ set(df['country'])"
   ],
   "metadata": {
    "collapsed": false
   }
  },
  {
   "cell_type": "code",
   "execution_count": 564,
   "outputs": [],
   "source": [
    "# Save the list of countries having no match to a text file\n",
    "with open('Output/wp_countries-no_match.txt', 'w') as file:\n",
    "    file.write('\\n'.join(sorted(list(set(df['Geography']) ^ set(df['country'])))))"
   ],
   "metadata": {
    "collapsed": false
   }
  },
  {
   "cell_type": "markdown",
   "source": [
    "#### Filter the DataFrame to only contain the required columns and drop unrequired data"
   ],
   "metadata": {
    "collapsed": false
   }
  },
  {
   "cell_type": "code",
   "execution_count": 565,
   "outputs": [],
   "source": [
    "# Remove records having missing values for 'country' or 'Geography'\n",
    "# Select only the required columns\n",
    "df = df[df['Geography'].notnull() & df['country'].notnull()][['country', 'Region', 'Population (millions)', 'title', 'lastrevid', 'Article Quality']]"
   ],
   "metadata": {
    "collapsed": false
   }
  },
  {
   "cell_type": "code",
   "execution_count": 566,
   "outputs": [],
   "source": [
    "# Rename columns to the required names\n",
    "df.rename(columns={\n",
    "    'Region': 'region',\n",
    "    'Population (millions)': 'population',\n",
    "    'title': 'article_title',\n",
    "    'lastrevid': 'revision_id',\n",
    "    'Article Quality': 'article_quality'\n",
    "}, inplace=True)"
   ],
   "metadata": {
    "collapsed": false
   }
  },
  {
   "cell_type": "code",
   "execution_count": 567,
   "outputs": [
    {
     "data": {
      "text/plain": "       country      region  population          article_title   revision_id  \\\n0  Afghanistan  SOUTH ASIA        41.1             Abas Basir  1.098420e+09   \n1  Afghanistan  SOUTH ASIA        41.1  Abdul Baqi Turkistani  8.892265e+08   \n2  Afghanistan  SOUTH ASIA        41.1  Abdul Ghafar Lakanwal  9.435623e+08   \n3  Afghanistan  SOUTH ASIA        41.1      Abdul Ghani Ghani  1.072442e+09   \n4  Afghanistan  SOUTH ASIA        41.1     Abdul Malik Hamwar  1.100875e+09   \n\n  article_quality  \n0               C  \n1            Stub  \n2           Start  \n3            Stub  \n4            Stub  ",
      "text/html": "<div>\n<style scoped>\n    .dataframe tbody tr th:only-of-type {\n        vertical-align: middle;\n    }\n\n    .dataframe tbody tr th {\n        vertical-align: top;\n    }\n\n    .dataframe thead th {\n        text-align: right;\n    }\n</style>\n<table border=\"1\" class=\"dataframe\">\n  <thead>\n    <tr style=\"text-align: right;\">\n      <th></th>\n      <th>country</th>\n      <th>region</th>\n      <th>population</th>\n      <th>article_title</th>\n      <th>revision_id</th>\n      <th>article_quality</th>\n    </tr>\n  </thead>\n  <tbody>\n    <tr>\n      <th>0</th>\n      <td>Afghanistan</td>\n      <td>SOUTH ASIA</td>\n      <td>41.1</td>\n      <td>Abas Basir</td>\n      <td>1.098420e+09</td>\n      <td>C</td>\n    </tr>\n    <tr>\n      <th>1</th>\n      <td>Afghanistan</td>\n      <td>SOUTH ASIA</td>\n      <td>41.1</td>\n      <td>Abdul Baqi Turkistani</td>\n      <td>8.892265e+08</td>\n      <td>Stub</td>\n    </tr>\n    <tr>\n      <th>2</th>\n      <td>Afghanistan</td>\n      <td>SOUTH ASIA</td>\n      <td>41.1</td>\n      <td>Abdul Ghafar Lakanwal</td>\n      <td>9.435623e+08</td>\n      <td>Start</td>\n    </tr>\n    <tr>\n      <th>3</th>\n      <td>Afghanistan</td>\n      <td>SOUTH ASIA</td>\n      <td>41.1</td>\n      <td>Abdul Ghani Ghani</td>\n      <td>1.072442e+09</td>\n      <td>Stub</td>\n    </tr>\n    <tr>\n      <th>4</th>\n      <td>Afghanistan</td>\n      <td>SOUTH ASIA</td>\n      <td>41.1</td>\n      <td>Abdul Malik Hamwar</td>\n      <td>1.100875e+09</td>\n      <td>Stub</td>\n    </tr>\n  </tbody>\n</table>\n</div>"
     },
     "execution_count": 567,
     "metadata": {},
     "output_type": "execute_result"
    }
   ],
   "source": [
    "df.head()"
   ],
   "metadata": {
    "collapsed": false
   }
  },
  {
   "cell_type": "code",
   "execution_count": 568,
   "outputs": [],
   "source": [
    "# Save the above DataFrame to a CSV file\n",
    "df.to_csv('Output/wp_politicians_by_country.csv', index=False)"
   ],
   "metadata": {
    "collapsed": false
   }
  },
  {
   "cell_type": "markdown",
   "source": [
    "### Step 4: Analysis"
   ],
   "metadata": {
    "collapsed": false
   }
  },
  {
   "cell_type": "code",
   "execution_count": 569,
   "outputs": [],
   "source": [
    "# Add an indicator variable feature to identify high quality articles\n",
    "df['high_quality'] = df['article_quality'].isin(['FA', 'GA'])"
   ],
   "metadata": {
    "collapsed": false
   }
  },
  {
   "cell_type": "code",
   "execution_count": 570,
   "outputs": [
    {
     "data": {
      "text/plain": "country\nAfghanistan    2.871046e-06\nAlbania        2.964286e-05\nAlgeria        7.572383e-07\nAndorra        1.000000e-04\nAngola         1.179775e-06\ndtype: float64"
     },
     "execution_count": 570,
     "metadata": {},
     "output_type": "execute_result"
    }
   ],
   "source": [
    "# Get the number of articles per capita for each country\n",
    "article_count_country = df.groupby('country')['article_title'].count() / (df.groupby('country')['population'].mean() * 10**6)\n",
    "article_count_country.head()"
   ],
   "metadata": {
    "collapsed": false
   }
  },
  {
   "cell_type": "code",
   "execution_count": 571,
   "outputs": [
    {
     "data": {
      "text/plain": "country\nAfghanistan    1.459854e-07\nAlbania        2.142857e-06\nAlgeria        0.000000e+00\nAndorra        2.000000e-05\nAngola         0.000000e+00\ndtype: float64"
     },
     "execution_count": 571,
     "metadata": {},
     "output_type": "execute_result"
    }
   ],
   "source": [
    "# Get the number of high quality articles per capita for each country\n",
    "high_quality_article_count_country = df.groupby('country')['high_quality'].sum() / (df.groupby('country')['population'].mean() * 10**6)\n",
    "high_quality_article_count_country.head()"
   ],
   "metadata": {
    "collapsed": false
   }
  },
  {
   "cell_type": "markdown",
   "source": [
    "#### Add the populations for the respective regions"
   ],
   "metadata": {
    "collapsed": false
   }
  },
  {
   "cell_type": "code",
   "execution_count": 572,
   "outputs": [],
   "source": [
    "df = df.merge(\n",
    "    population_list,\n",
    "    left_on='region',\n",
    "    right_on='Geography'\n",
    ").drop(\n",
    "    columns=['Geography', 'Region']\n",
    ").rename(\n",
    "    columns={'Population (millions)': 'region_population'}\n",
    ")"
   ],
   "metadata": {
    "collapsed": false
   }
  },
  {
   "cell_type": "code",
   "execution_count": 573,
   "outputs": [
    {
     "data": {
      "text/plain": "region\nCARIBBEAN          4.568182e-06\nCENTRAL AMERICA    1.095506e-06\nCENTRAL ASIA       1.358974e-06\nEAST ASIA          1.463560e-07\nEASTERN AFRICA     1.369979e-06\ndtype: float64"
     },
     "execution_count": 573,
     "metadata": {},
     "output_type": "execute_result"
    }
   ],
   "source": [
    "# Get the number of articles per capita for each region\n",
    "article_count_region = df.groupby('region')['article_title'].count() / (df.groupby('region')['region_population'].mean() * 10**6)\n",
    "article_count_region.head()"
   ],
   "metadata": {
    "collapsed": false
   }
  },
  {
   "cell_type": "code",
   "execution_count": 574,
   "outputs": [
    {
     "data": {
      "text/plain": "region\nCARIBBEAN          1.818182e-07\nCENTRAL AMERICA    5.617978e-08\nCENTRAL ASIA       3.846154e-08\nEAST ASIA          9.557945e-09\nEASTERN AFRICA     3.171247e-08\ndtype: float64"
     },
     "execution_count": 574,
     "metadata": {},
     "output_type": "execute_result"
    }
   ],
   "source": [
    "# Get the number of articles per capita for each region\n",
    "high_quality_article_count_region = df.groupby('region')['high_quality'].sum() / (df.groupby('region')['region_population'].mean() * 10**6)\n",
    "high_quality_article_count_region.head()"
   ],
   "metadata": {
    "collapsed": false
   }
  },
  {
   "cell_type": "markdown",
   "source": [
    "### Step 5: Results"
   ],
   "metadata": {
    "collapsed": false
   }
  },
  {
   "cell_type": "markdown",
   "source": [
    "##### Top 10 countries by coverage: The 10 countries with the highest total articles per capita (in descending order) ."
   ],
   "metadata": {
    "collapsed": false
   }
  },
  {
   "cell_type": "code",
   "execution_count": 575,
   "outputs": [
    {
     "data": {
      "text/plain": "country\nAntigua and Barbuda               0.000170\nFederated States of Micronesia    0.000130\nAndorra                           0.000100\nBarbados                          0.000093\nMarshall Islands                  0.000090\nMontenegro                        0.000060\nSeychelles                        0.000060\nLuxembourg                        0.000053\nBhutan                            0.000051\nGrenada                           0.000050\ndtype: float64"
     },
     "execution_count": 575,
     "metadata": {},
     "output_type": "execute_result"
    }
   ],
   "source": [
    "article_count_country[article_count_country < np.inf].sort_values(ascending=False).head(10)"
   ],
   "metadata": {
    "collapsed": false
   }
  },
  {
   "cell_type": "markdown",
   "source": [
    "##### Bottom 10 countries by coverage: The 10 countries with the lowest total articles per capita (in ascending order) ."
   ],
   "metadata": {
    "collapsed": false
   }
  },
  {
   "cell_type": "code",
   "execution_count": 576,
   "outputs": [
    {
     "data": {
      "text/plain": "country\nChina           1.392176e-09\nMexico          7.843137e-09\nSaudi Arabia    8.174387e-08\nRomania         1.052632e-07\nIndia           1.255998e-07\nSri Lanka       1.339286e-07\nEgypt           1.352657e-07\nEthiopia        2.025932e-07\nTaiwan          2.155172e-07\nVietnam         2.716298e-07\ndtype: float64"
     },
     "execution_count": 576,
     "metadata": {},
     "output_type": "execute_result"
    }
   ],
   "source": [
    "article_count_country.sort_values(ascending=True).head(10)"
   ],
   "metadata": {
    "collapsed": false
   }
  },
  {
   "cell_type": "markdown",
   "source": [
    "##### Top 10 countries by high quality: The 10 countries with the highest high quality articles per capita (in descending order) ."
   ],
   "metadata": {
    "collapsed": false
   }
  },
  {
   "cell_type": "code",
   "execution_count": 577,
   "outputs": [
    {
     "data": {
      "text/plain": "country\nAndorra                  2.000000e-05\nMontenegro               5.000000e-06\nAlbania                  2.142857e-06\nSuriname                 1.666667e-06\nBosnia-Herzegovina       1.470588e-06\nLithuania                1.071429e-06\nCroatia                  1.052632e-06\nSlovenia                 9.523810e-07\nPalestinian Territory    9.259259e-07\nGabon                    8.333333e-07\ndtype: float64"
     },
     "execution_count": 577,
     "metadata": {},
     "output_type": "execute_result"
    }
   ],
   "source": [
    "high_quality_article_count_country[high_quality_article_count_country < np.inf].sort_values(ascending=False).head(10)"
   ],
   "metadata": {
    "collapsed": false
   }
  },
  {
   "cell_type": "markdown",
   "source": [
    "##### Bottom 10 countries by high quality: The 10 countries with the lowest high quality articles per capita (in ascending order)."
   ],
   "metadata": {
    "collapsed": false
   }
  },
  {
   "cell_type": "code",
   "execution_count": 578,
   "outputs": [
    {
     "data": {
      "text/plain": "country\nLaos                0.0\nMongolia            0.0\nMoldova             0.0\nMexico              0.0\nMarshall Islands    0.0\nMalta               0.0\nMaldives            0.0\nMalawi              0.0\nMadagascar          0.0\nLuxembourg          0.0\ndtype: float64"
     },
     "execution_count": 578,
     "metadata": {},
     "output_type": "execute_result"
    }
   ],
   "source": [
    "high_quality_article_count_country.sort_values(ascending=True).head(10)"
   ],
   "metadata": {
    "collapsed": false
   }
  },
  {
   "cell_type": "code",
   "execution_count": 579,
   "outputs": [
    {
     "data": {
      "text/plain": "86"
     },
     "execution_count": 579,
     "metadata": {},
     "output_type": "execute_result"
    }
   ],
   "source": [
    "(high_quality_article_count_country == 0).sum()"
   ],
   "metadata": {
    "collapsed": false
   }
  },
  {
   "cell_type": "markdown",
   "source": [
    "We notice that 86 countries have no high quality articles.\n",
    "Hence, we also display the result for countries having at least one high quality article."
   ],
   "metadata": {
    "collapsed": false
   }
  },
  {
   "cell_type": "code",
   "execution_count": 580,
   "outputs": [
    {
     "data": {
      "text/plain": "country\nIndia       4.233700e-09\nThailand    1.497006e-08\nJapan       1.601281e-08\nNigeria     1.830664e-08\nVietnam     2.012072e-08\nColombia    2.036660e-08\nUganda      2.118644e-08\nPakistan    2.120441e-08\nSudan       2.132196e-08\nIran        2.257336e-08\ndtype: float64"
     },
     "execution_count": 580,
     "metadata": {},
     "output_type": "execute_result"
    }
   ],
   "source": [
    "high_quality_article_count_country[high_quality_article_count_country > 0].sort_values(ascending=True).head(10)"
   ],
   "metadata": {
    "collapsed": false
   }
  },
  {
   "cell_type": "markdown",
   "source": [
    "##### Geographic regions by total coverage: A rank ordered list of geographic regions (in descending order) by total articles per capita."
   ],
   "metadata": {
    "collapsed": false
   }
  },
  {
   "cell_type": "code",
   "execution_count": 581,
   "outputs": [
    {
     "data": {
      "text/plain": "region\nSOUTHERN EUROPE    5.894040e-06\nCARIBBEAN          4.568182e-06\nWESTERN EUROPE     3.548223e-06\nEASTERN EUROPE     2.560976e-06\nNORTHERN EUROPE    2.448598e-06\nWESTERN ASIA       2.333333e-06\nOCEANIA            1.954545e-06\nSOUTHERN AFRICA    1.710145e-06\nEASTERN AFRICA     1.369979e-06\nCENTRAL ASIA       1.358974e-06\nSOUTH AMERICA      1.329493e-06\nWESTERN AFRICA     1.320930e-06\nCENTRAL AMERICA    1.095506e-06\nMIDDLE AFRICA      1.035714e-06\nNORTHERN AFRICA    9.043825e-07\nSOUTHEAST ASIA     6.094675e-07\nSOUTH ASIA         3.227092e-07\nEAST ASIA          1.463560e-07\ndtype: float64"
     },
     "execution_count": 581,
     "metadata": {},
     "output_type": "execute_result"
    }
   ],
   "source": [
    "article_count_region.sort_values(ascending=False)"
   ],
   "metadata": {
    "collapsed": false
   }
  },
  {
   "cell_type": "markdown",
   "source": [
    "##### Geographic regions by high quality coverage: Rank ordered list of geographic regions (in descending order) by high quality articles per capita."
   ],
   "metadata": {
    "collapsed": false
   }
  },
  {
   "cell_type": "code",
   "execution_count": 582,
   "outputs": [
    {
     "data": {
      "text/plain": "region\nSOUTHERN EUROPE    3.046358e-07\nCARIBBEAN          1.818182e-07\nEASTERN EUROPE     1.324042e-07\nWESTERN EUROPE     1.116751e-07\nWESTERN ASIA       9.523810e-08\nNORTHERN EUROPE    7.476636e-08\nSOUTHERN AFRICA    5.797101e-08\nCENTRAL AMERICA    5.617978e-08\nOCEANIA            4.545455e-08\nCENTRAL ASIA       3.846154e-08\nSOUTHEAST ASIA     3.550296e-08\nEASTERN AFRICA     3.171247e-08\nWESTERN AFRICA     3.023256e-08\nSOUTH AMERICA      2.995392e-08\nNORTHERN AFRICA    2.788845e-08\nMIDDLE AFRICA      2.551020e-08\nSOUTH ASIA         1.145418e-08\nEAST ASIA          9.557945e-09\ndtype: float64"
     },
     "execution_count": 582,
     "metadata": {},
     "output_type": "execute_result"
    }
   ],
   "source": [
    "high_quality_article_count_region.sort_values(ascending=False)"
   ],
   "metadata": {
    "collapsed": false
   }
  },
  {
   "cell_type": "markdown",
   "source": [
    "Let us also analyze the ration of high quality articles per country and region"
   ],
   "metadata": {
    "collapsed": false
   }
  },
  {
   "cell_type": "code",
   "execution_count": 585,
   "outputs": [
    {
     "data": {
      "text/plain": "country\nRomania         1.000000\nSaudi Arabia    0.666667\nGabon           0.333333\nAndorra         0.200000\nKorea, South    0.154762\n                  ...   \nMonaco               NaN\nNauru                NaN\nPalau                NaN\nSan Marino           NaN\nTuvalu               NaN\nLength: 184, dtype: float64"
     },
     "execution_count": 585,
     "metadata": {},
     "output_type": "execute_result"
    }
   ],
   "source": [
    "(high_quality_article_count_country / article_count_country).sort_values(ascending=False)"
   ],
   "metadata": {
    "collapsed": false
   }
  },
  {
   "cell_type": "code",
   "execution_count": 586,
   "outputs": [
    {
     "data": {
      "text/plain": "region\nEAST ASIA          0.065306\nSOUTHEAST ASIA     0.058252\nEASTERN EUROPE     0.051701\nSOUTHERN EUROPE    0.051685\nCENTRAL AMERICA    0.051282\nWESTERN ASIA       0.040816\nCARIBBEAN          0.039801\nSOUTH ASIA         0.035494\nSOUTHERN AFRICA    0.033898\nWESTERN EUROPE     0.031474\nNORTHERN AFRICA    0.030837\nNORTHERN EUROPE    0.030534\nCENTRAL ASIA       0.028302\nMIDDLE AFRICA      0.024631\nOCEANIA            0.023256\nEASTERN AFRICA     0.023148\nWESTERN AFRICA     0.022887\nSOUTH AMERICA      0.022530\ndtype: float64"
     },
     "execution_count": 586,
     "metadata": {},
     "output_type": "execute_result"
    }
   ],
   "source": [
    "(high_quality_article_count_region / article_count_region).sort_values(ascending=False)"
   ],
   "metadata": {
    "collapsed": false
   }
  }
 ],
 "metadata": {
  "kernelspec": {
   "display_name": "Python 3",
   "language": "python",
   "name": "python3"
  },
  "language_info": {
   "codemirror_mode": {
    "name": "ipython",
    "version": 2
   },
   "file_extension": ".py",
   "mimetype": "text/x-python",
   "name": "python",
   "nbconvert_exporter": "python",
   "pygments_lexer": "ipython2",
   "version": "2.7.6"
  }
 },
 "nbformat": 4,
 "nbformat_minor": 0
}
